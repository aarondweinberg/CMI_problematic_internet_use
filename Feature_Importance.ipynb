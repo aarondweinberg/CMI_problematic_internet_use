{
 "cells": [
  {
   "cell_type": "markdown",
   "metadata": {},
   "source": [
    "**Feature Importance Investigation**\n",
    "\n",
    "The goal of this notebook is to work with the cleaned & predictor-imputed & feature-reduced data to identify whether some (groups of) features might be more useful in predicting the outcomes.\n",
    "\n",
    "In the notebook we will:\n",
    "\n",
    "1. Import the data. \n",
    "2. To try to identify predictors that might be most strongly associated with the outcome variable (PCIAT_Total), we will examine correlations between each predictor (individually) and \n",
    "    * PCIAT-PCIAT_Total\n",
    "    * log(PCIAT-PCIAT_Total)\n",
    "    * (PCIAT-PCIAT_Total)^2\n",
    "3. Using RandomForest Regression on the entire set of predictors and examining the importance matrix to try to find a potential list of \"key\" predictors\n",
    "4. Examining NaN counts for all variables and, potentially, removing variables that:\n",
    "    * Have very large NaN counts AND\n",
    "    * Don't have face value as predictors AND\n",
    "    * Have low correlations with the outcome variable\n",
    "5. Create sets of predictors grouped by predictors with NaNs in common (e.g., a set where a participant is likely to either have values for all of the predictors in the set or none of the predictors in the set). We will use these to try to identify whether *groups* of predictors are more important than others for predicting PCIAT scores"
   ]
  },
  {
   "cell_type": "code",
   "execution_count": 1,
   "metadata": {},
   "outputs": [],
   "source": [
    "import pandas as pd\n",
    "import numpy as np\n",
    "import seaborn as sns\n",
    "import matplotlib.pyplot as plt"
   ]
  },
  {
   "cell_type": "code",
   "execution_count": 2,
   "metadata": {},
   "outputs": [],
   "source": [
    "# Load the original data set\n",
    "train_cleaned = pd.read_csv('train_cleaned_outcome_imputed_feature_selected.csv')"
   ]
  },
  {
   "cell_type": "code",
   "execution_count": 5,
   "metadata": {},
   "outputs": [],
   "source": [
    "# Make a list of numeric features\n",
    "numeric_features = train_cleaned.select_dtypes(include=[np.number]).columns\n",
    "\n",
    "# Remove all PCIAT variables from numeric features\n",
    "numeric_features = numeric_features.drop(list(train_cleaned.filter(regex='PCIAT-PCIAT').columns))\n",
    "\n",
    "# Remove sii from numeric_features\n",
    "numeric_features = numeric_features.drop(['sii'])"
   ]
  },
  {
   "cell_type": "code",
   "execution_count": 6,
   "metadata": {},
   "outputs": [
    {
     "data": {
      "text/plain": [
       "Physical-Height                           0.417952\n",
       "Basic_Demos-Age                           0.414704\n",
       "PreInt_EduHx-computerinternet_hoursday    0.380958\n",
       "Physical-Weight                           0.366635\n",
       "BIA-BIA_FFM                               0.331195\n",
       "Physical-Waist_Circumference              0.318887\n",
       "FGC-FGC_CU                                0.308348\n",
       "BIA-BIA_Fat                               0.282827\n",
       "ENMO_Avg_Active_Days_MVPA110              0.263583\n",
       "Physical-BMI                              0.250113\n",
       "dtype: float64"
      ]
     },
     "execution_count": 6,
     "metadata": {},
     "output_type": "execute_result"
    }
   ],
   "source": [
    "# Compute absolute values of correlations between each predictor in numeric_features and PCIAT-PCIAT_Total\n",
    "correlations = train_cleaned[numeric_features].apply(lambda x: np.abs(x.corr(train_cleaned['PCIAT-PCIAT_Total'])))\n",
    "\n",
    "# Order correlations from largest to smallest\n",
    "correlations = correlations.sort_values(ascending=False)\n",
    "\n",
    "correlations.head(10)"
   ]
  },
  {
   "cell_type": "markdown",
   "metadata": {},
   "source": [
    "Height, age, and weight are among the strong(er) predictors of the PCIAT_Total outcome, as well as responses to a survey about hours of internet use.\n",
    "\n",
    "There appear to be a constellation of BIA variables that are predictors, but prior exploration suggests that these might be strongly correlated with height and weight (and maybe age), so they might be candidates for elimination.\n",
    "\n",
    "It's possible that there are some non-linear associations. So we'll compute log and ^2 of the outcome variable and re-compute correlations"
   ]
  },
  {
   "cell_type": "code",
   "execution_count": 7,
   "metadata": {},
   "outputs": [
    {
     "name": "stderr",
     "output_type": "stream",
     "text": [
      "/opt/anaconda3/envs/erdos_fall_2024/lib/python3.12/site-packages/pandas/core/arraylike.py:399: RuntimeWarning: divide by zero encountered in log\n",
      "  result = getattr(ufunc, method)(*inputs, **kwargs)\n"
     ]
    },
    {
     "data": {
      "text/plain": [
       "Physical-Height                           0.371523\n",
       "Basic_Demos-Age                           0.363514\n",
       "PreInt_EduHx-computerinternet_hoursday    0.314995\n",
       "Physical-Weight                           0.307610\n",
       "FGC-FGC_CU                                0.274599\n",
       "BIA-BIA_FFM                               0.267541\n",
       "Physical-Waist_Circumference              0.265668\n",
       "BIA-BIA_Fat                               0.226043\n",
       "ENMO_Avg_Active_Days_MVPA110              0.213419\n",
       "Physical-BMI                              0.201790\n",
       "dtype: float64"
      ]
     },
     "execution_count": 7,
     "metadata": {},
     "output_type": "execute_result"
    }
   ],
   "source": [
    "# Create a new variable that is log(PCIAT-PCIAT_Total)\n",
    "train_cleaned['log_PCIAT-PCIAT_Total'] = np.log(train_cleaned['PCIAT-PCIAT_Total'])\n",
    "\n",
    "# Replace -inf values in log_PCIAT-PCIAT_Total with -1\n",
    "train_cleaned['log_PCIAT-PCIAT_Total'] = train_cleaned['log_PCIAT-PCIAT_Total'].replace(-np.inf, -1)\n",
    "\n",
    "# Compute absolute values of correlations between each predictor in numeric_features and log_PCIAT-PCIAT_Total\n",
    "correlations_log = train_cleaned[numeric_features].apply(lambda x: np.abs(x.corr(train_cleaned['log_PCIAT-PCIAT_Total'])))\n",
    "correlations_log = correlations_log.sort_values(ascending=False)\n",
    "\n",
    "correlations_log.head(10)"
   ]
  },
  {
   "cell_type": "markdown",
   "metadata": {},
   "source": [
    "The ordering of these variables is roughly unchanged, but the correlation values have decreased. So it doesn't seem to be the case that any of the predictors have a strong(er) correlation with log(PCIAT_Total)"
   ]
  },
  {
   "cell_type": "code",
   "execution_count": 8,
   "metadata": {},
   "outputs": [
    {
     "data": {
      "text/plain": [
       "Basic_Demos-Age                           0.381623\n",
       "Physical-Height                           0.377574\n",
       "PreInt_EduHx-computerinternet_hoursday    0.351885\n",
       "Physical-Weight                           0.348412\n",
       "BIA-BIA_FFM                               0.315812\n",
       "BIA-BIA_Fat                               0.279299\n",
       "FGC-FGC_CU                                0.268651\n",
       "Physical-Waist_Circumference              0.265930\n",
       "BIA-BIA_FFMI                              0.249794\n",
       "ENMO_Avg_Active_Days_MVPA110              0.242638\n",
       "dtype: float64"
      ]
     },
     "execution_count": 8,
     "metadata": {},
     "output_type": "execute_result"
    }
   ],
   "source": [
    "# Create a new variable that is (PCIAT-PCIAT_Total)^2\n",
    "train_cleaned['squared_PCIAT-PCIAT_Total'] = train_cleaned['PCIAT-PCIAT_Total']**2\n",
    "\n",
    "# Compute absolute values of correlations between each predictor in numeric_features and squared_PCIAT-PCIAT_Total\n",
    "correlations_squared = train_cleaned[numeric_features].apply(lambda x: np.abs(x.corr(train_cleaned['squared_PCIAT-PCIAT_Total'])))\n",
    "correlations_squared = correlations_squared.sort_values(ascending=False)\n",
    "correlations_squared.head(10)"
   ]
  },
  {
   "cell_type": "markdown",
   "metadata": {},
   "source": [
    "Same results for the square relationship as with log. So we'll stick with examining linear relationships. We can remove the newly-created log/square predictors"
   ]
  },
  {
   "cell_type": "code",
   "execution_count": 9,
   "metadata": {},
   "outputs": [],
   "source": [
    "# Remove the log_PCIAT-PCIAT_Total and squared_PCIAT-PCIAT_Total variables\n",
    "train_cleaned = train_cleaned.drop(['log_PCIAT-PCIAT_Total', 'squared_PCIAT-PCIAT_Total'], axis=1)"
   ]
  },
  {
   "cell_type": "markdown",
   "metadata": {},
   "source": [
    "**Random Forest for Feature Selection**\n",
    "\n",
    "In this section, we will run a RandomForest regressor on the set of predictors to identify variables with relatively large importance scores. We'll then use these to create a list of \"key features\" that we can use when comparing models."
   ]
  },
  {
   "cell_type": "code",
   "execution_count": 10,
   "metadata": {},
   "outputs": [],
   "source": [
    "#Create an initial list of predictor columns\n",
    "\n",
    "predictors = train_cleaned.columns.tolist()\n",
    "if 'id' in predictors:\n",
    "    predictors.remove('id')\n",
    "if 'sii' in predictors:\n",
    "    predictors.remove('sii')\n",
    "predictors = [x for x in predictors if 'PCIAT' not in x]\n",
    "predictors = [x for x in predictors if 'Season' not in x]"
   ]
  },
  {
   "cell_type": "code",
   "execution_count": 11,
   "metadata": {},
   "outputs": [
    {
     "data": {
      "text/html": [
       "<div>\n",
       "<style scoped>\n",
       "    .dataframe tbody tr th:only-of-type {\n",
       "        vertical-align: middle;\n",
       "    }\n",
       "\n",
       "    .dataframe tbody tr th {\n",
       "        vertical-align: top;\n",
       "    }\n",
       "\n",
       "    .dataframe thead th {\n",
       "        text-align: right;\n",
       "    }\n",
       "</style>\n",
       "<table border=\"1\" class=\"dataframe\">\n",
       "  <thead>\n",
       "    <tr style=\"text-align: right;\">\n",
       "      <th></th>\n",
       "      <th>feature</th>\n",
       "      <th>importance_score</th>\n",
       "    </tr>\n",
       "  </thead>\n",
       "  <tbody>\n",
       "    <tr>\n",
       "      <th>0</th>\n",
       "      <td>Basic_Demos-Age</td>\n",
       "      <td>0.134744</td>\n",
       "    </tr>\n",
       "    <tr>\n",
       "      <th>20</th>\n",
       "      <td>PreInt_EduHx-computerinternet_hoursday</td>\n",
       "      <td>0.128712</td>\n",
       "    </tr>\n",
       "    <tr>\n",
       "      <th>4</th>\n",
       "      <td>Physical-Height</td>\n",
       "      <td>0.113239</td>\n",
       "    </tr>\n",
       "    <tr>\n",
       "      <th>14</th>\n",
       "      <td>BIA-BIA_FFM</td>\n",
       "      <td>0.088525</td>\n",
       "    </tr>\n",
       "    <tr>\n",
       "      <th>19</th>\n",
       "      <td>SDS-SDS_Total_Raw</td>\n",
       "      <td>0.075877</td>\n",
       "    </tr>\n",
       "    <tr>\n",
       "      <th>5</th>\n",
       "      <td>Physical-Weight</td>\n",
       "      <td>0.073809</td>\n",
       "    </tr>\n",
       "    <tr>\n",
       "      <th>22</th>\n",
       "      <td>ENMO_Avg_Active_Days_MVPA110</td>\n",
       "      <td>0.070334</td>\n",
       "    </tr>\n",
       "    <tr>\n",
       "      <th>10</th>\n",
       "      <td>FGC-FGC_CU</td>\n",
       "      <td>0.051529</td>\n",
       "    </tr>\n",
       "    <tr>\n",
       "      <th>6</th>\n",
       "      <td>Physical-Waist_Circumference</td>\n",
       "      <td>0.026613</td>\n",
       "    </tr>\n",
       "    <tr>\n",
       "      <th>17</th>\n",
       "      <td>BIA-BIA_Fat</td>\n",
       "      <td>0.024879</td>\n",
       "    </tr>\n",
       "    <tr>\n",
       "      <th>11</th>\n",
       "      <td>FGC-FGC_PU</td>\n",
       "      <td>0.023109</td>\n",
       "    </tr>\n",
       "    <tr>\n",
       "      <th>15</th>\n",
       "      <td>BIA-BIA_FFMI</td>\n",
       "      <td>0.021086</td>\n",
       "    </tr>\n",
       "    <tr>\n",
       "      <th>26</th>\n",
       "      <td>PAQ_Total</td>\n",
       "      <td>0.016362</td>\n",
       "    </tr>\n",
       "    <tr>\n",
       "      <th>3</th>\n",
       "      <td>Physical-BMI</td>\n",
       "      <td>0.015255</td>\n",
       "    </tr>\n",
       "    <tr>\n",
       "      <th>24</th>\n",
       "      <td>FGC-FGC_SR</td>\n",
       "      <td>0.014908</td>\n",
       "    </tr>\n",
       "    <tr>\n",
       "      <th>12</th>\n",
       "      <td>FGC-FGC_TL</td>\n",
       "      <td>0.014868</td>\n",
       "    </tr>\n",
       "    <tr>\n",
       "      <th>2</th>\n",
       "      <td>CGAS-CGAS_Score</td>\n",
       "      <td>0.013269</td>\n",
       "    </tr>\n",
       "    <tr>\n",
       "      <th>16</th>\n",
       "      <td>BIA-BIA_FMI</td>\n",
       "      <td>0.011467</td>\n",
       "    </tr>\n",
       "    <tr>\n",
       "      <th>21</th>\n",
       "      <td>ENMO_Avg_Active_Days_MVPA192</td>\n",
       "      <td>0.010680</td>\n",
       "    </tr>\n",
       "    <tr>\n",
       "      <th>23</th>\n",
       "      <td>Positive_Anglez_Active_Days</td>\n",
       "      <td>0.010038</td>\n",
       "    </tr>\n",
       "    <tr>\n",
       "      <th>9</th>\n",
       "      <td>Physical-Systolic_BP</td>\n",
       "      <td>0.009960</td>\n",
       "    </tr>\n",
       "    <tr>\n",
       "      <th>7</th>\n",
       "      <td>Physical-Diastolic_BP</td>\n",
       "      <td>0.009691</td>\n",
       "    </tr>\n",
       "    <tr>\n",
       "      <th>28</th>\n",
       "      <td>Fitness_Endurance_Total_Time_Sec</td>\n",
       "      <td>0.009687</td>\n",
       "    </tr>\n",
       "    <tr>\n",
       "      <th>8</th>\n",
       "      <td>Physical-HeartRate</td>\n",
       "      <td>0.009650</td>\n",
       "    </tr>\n",
       "    <tr>\n",
       "      <th>13</th>\n",
       "      <td>BIA-BIA_Activity_Level_num</td>\n",
       "      <td>0.007630</td>\n",
       "    </tr>\n",
       "    <tr>\n",
       "      <th>1</th>\n",
       "      <td>Basic_Demos-Sex</td>\n",
       "      <td>0.006515</td>\n",
       "    </tr>\n",
       "    <tr>\n",
       "      <th>18</th>\n",
       "      <td>BIA-BIA_Frame_num</td>\n",
       "      <td>0.006428</td>\n",
       "    </tr>\n",
       "    <tr>\n",
       "      <th>25</th>\n",
       "      <td>FGC-FGC_SR_Zone</td>\n",
       "      <td>0.001135</td>\n",
       "    </tr>\n",
       "    <tr>\n",
       "      <th>27</th>\n",
       "      <td>PAQ_Zone</td>\n",
       "      <td>0.000000</td>\n",
       "    </tr>\n",
       "  </tbody>\n",
       "</table>\n",
       "</div>"
      ],
      "text/plain": [
       "                                   feature  importance_score\n",
       "0                          Basic_Demos-Age          0.134744\n",
       "20  PreInt_EduHx-computerinternet_hoursday          0.128712\n",
       "4                          Physical-Height          0.113239\n",
       "14                             BIA-BIA_FFM          0.088525\n",
       "19                       SDS-SDS_Total_Raw          0.075877\n",
       "5                          Physical-Weight          0.073809\n",
       "22            ENMO_Avg_Active_Days_MVPA110          0.070334\n",
       "10                              FGC-FGC_CU          0.051529\n",
       "6             Physical-Waist_Circumference          0.026613\n",
       "17                             BIA-BIA_Fat          0.024879\n",
       "11                              FGC-FGC_PU          0.023109\n",
       "15                            BIA-BIA_FFMI          0.021086\n",
       "26                               PAQ_Total          0.016362\n",
       "3                             Physical-BMI          0.015255\n",
       "24                              FGC-FGC_SR          0.014908\n",
       "12                              FGC-FGC_TL          0.014868\n",
       "2                          CGAS-CGAS_Score          0.013269\n",
       "16                             BIA-BIA_FMI          0.011467\n",
       "21            ENMO_Avg_Active_Days_MVPA192          0.010680\n",
       "23             Positive_Anglez_Active_Days          0.010038\n",
       "9                     Physical-Systolic_BP          0.009960\n",
       "7                    Physical-Diastolic_BP          0.009691\n",
       "28        Fitness_Endurance_Total_Time_Sec          0.009687\n",
       "8                       Physical-HeartRate          0.009650\n",
       "13              BIA-BIA_Activity_Level_num          0.007630\n",
       "1                          Basic_Demos-Sex          0.006515\n",
       "18                       BIA-BIA_Frame_num          0.006428\n",
       "25                         FGC-FGC_SR_Zone          0.001135\n",
       "27                                PAQ_Zone          0.000000"
      ]
     },
     "execution_count": 11,
     "metadata": {},
     "output_type": "execute_result"
    }
   ],
   "source": [
    "from sklearn.pipeline import Pipeline\n",
    "from sklearn.ensemble import RandomForestRegressor\n",
    "from sklearn.preprocessing import FunctionTransformer\n",
    "from CustomImputers import *\n",
    "\n",
    "\n",
    "pipe_mice = Pipeline([('mice_impute', Custom_MICE_Imputer()),\n",
    "                    ('add_zones', FunctionTransformer(zone_encoder)),\n",
    "                    ('rf', RandomForestRegressor(n_estimators = 300, max_features = 'sqrt', max_depth = 5, random_state = 216))])\n",
    "\n",
    "pipe_mice.fit(train_cleaned[predictors],train_cleaned['PCIAT-PCIAT_Total'])\n",
    "\n",
    "train_pred_mice = pipe_mice.predict(train_cleaned[predictors])\n",
    "\n",
    "#Get feature importance from the rf inside pipe\n",
    "score_mice_df = pd.DataFrame({'feature':train_cleaned[predictors].columns,\n",
    "                            'importance_score': pipe_mice.named_steps['rf'].feature_importances_})\n",
    "\n",
    "score_mice_df.sort_values('importance_score',ascending=False)\n"
   ]
  },
  {
   "cell_type": "code",
   "execution_count": 12,
   "metadata": {},
   "outputs": [],
   "source": [
    "# Include the features with scores at least 0.05 as \"keyfeatures\"\n",
    "\n",
    "keyfeatures = ['Basic_Demos-Age',\n",
    " 'Physical-Height',\n",
    " 'PreInt_EduHx-computerinternet_hoursday',\n",
    " 'BIA-BIA_FFM',\n",
    " 'SDS-SDS_Total_Raw',\n",
    " 'Physical-Weight',\n",
    " 'ENMO_Avg_Active_Days_MVPA110',\n",
    " 'FGC-FGC_CU']"
   ]
  },
  {
   "cell_type": "markdown",
   "metadata": {},
   "source": [
    "**Interpretation**\n",
    "\n",
    "These sets provide us with some candidates for \"key features\" we could use to test other models as predictors of PCIAT scores.\n"
   ]
  }
 ],
 "metadata": {
  "kernelspec": {
   "display_name": "erdos_fall_2024",
   "language": "python",
   "name": "python3"
  },
  "language_info": {
   "codemirror_mode": {
    "name": "ipython",
    "version": 3
   },
   "file_extension": ".py",
   "mimetype": "text/x-python",
   "name": "python",
   "nbconvert_exporter": "python",
   "pygments_lexer": "ipython3",
   "version": "3.12.6"
  }
 },
 "nbformat": 4,
 "nbformat_minor": 2
}
