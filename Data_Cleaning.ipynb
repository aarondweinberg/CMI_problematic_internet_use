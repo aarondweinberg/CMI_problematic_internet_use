{
 "cells": [
  {
   "cell_type": "code",
   "execution_count": 2,
   "metadata": {},
   "outputs": [],
   "source": [
    "import pandas as pd\n",
    "import numpy as np\n",
    "import matplotlib.pyplot as plt\n",
    "from scipy import stats"
   ]
  },
  {
   "cell_type": "code",
   "execution_count": 3,
   "metadata": {},
   "outputs": [],
   "source": [
    "#This is the starting data.\n",
    "\n",
    "train=pd.read_csv('train.csv')"
   ]
  },
  {
   "cell_type": "code",
   "execution_count": 4,
   "metadata": {},
   "outputs": [
    {
     "name": "stdout",
     "output_type": "stream",
     "text": [
      "Float columns: Index(['CGAS-CGAS_Score', 'Physical-BMI', 'Physical-Height', 'Physical-Weight',\n",
      "       'Physical-Waist_Circumference', 'Physical-Diastolic_BP',\n",
      "       'Physical-HeartRate', 'Physical-Systolic_BP',\n",
      "       'Fitness_Endurance-Max_Stage', 'Fitness_Endurance-Time_Mins',\n",
      "       'Fitness_Endurance-Time_Sec', 'FGC-FGC_CU', 'FGC-FGC_CU_Zone',\n",
      "       'FGC-FGC_GSND', 'FGC-FGC_GSND_Zone', 'FGC-FGC_GSD', 'FGC-FGC_GSD_Zone',\n",
      "       'FGC-FGC_PU', 'FGC-FGC_PU_Zone', 'FGC-FGC_SRL', 'FGC-FGC_SRL_Zone',\n",
      "       'FGC-FGC_SRR', 'FGC-FGC_SRR_Zone', 'FGC-FGC_TL', 'FGC-FGC_TL_Zone',\n",
      "       'BIA-BIA_Activity_Level_num', 'BIA-BIA_BMC', 'BIA-BIA_BMI',\n",
      "       'BIA-BIA_BMR', 'BIA-BIA_DEE', 'BIA-BIA_ECW', 'BIA-BIA_FFM',\n",
      "       'BIA-BIA_FFMI', 'BIA-BIA_FMI', 'BIA-BIA_Fat', 'BIA-BIA_Frame_num',\n",
      "       'BIA-BIA_ICW', 'BIA-BIA_LDM', 'BIA-BIA_LST', 'BIA-BIA_SMM',\n",
      "       'BIA-BIA_TBW', 'PAQ_A-PAQ_A_Total', 'PAQ_C-PAQ_C_Total',\n",
      "       'PCIAT-PCIAT_01', 'PCIAT-PCIAT_02', 'PCIAT-PCIAT_03', 'PCIAT-PCIAT_04',\n",
      "       'PCIAT-PCIAT_05', 'PCIAT-PCIAT_06', 'PCIAT-PCIAT_07', 'PCIAT-PCIAT_08',\n",
      "       'PCIAT-PCIAT_09', 'PCIAT-PCIAT_10', 'PCIAT-PCIAT_11', 'PCIAT-PCIAT_12',\n",
      "       'PCIAT-PCIAT_13', 'PCIAT-PCIAT_14', 'PCIAT-PCIAT_15', 'PCIAT-PCIAT_16',\n",
      "       'PCIAT-PCIAT_17', 'PCIAT-PCIAT_18', 'PCIAT-PCIAT_19', 'PCIAT-PCIAT_20',\n",
      "       'PCIAT-PCIAT_Total', 'SDS-SDS_Total_Raw', 'SDS-SDS_Total_T',\n",
      "       'PreInt_EduHx-computerinternet_hoursday', 'sii'],\n",
      "      dtype='object')\n",
      "68\n"
     ]
    }
   ],
   "source": [
    "#I only want to include quantitative variables for possible analysis for outliers, so first I identify the float variables.\n",
    "\n",
    "float_columns = train.select_dtypes(include=['float']).columns\n",
    "print(\"Float columns:\", float_columns)\n",
    "print(len(float_columns))"
   ]
  },
  {
   "cell_type": "code",
   "execution_count": 5,
   "metadata": {},
   "outputs": [
    {
     "data": {
      "text/plain": [
       "[3511, 3205, 3147, 2065, 3767, 1470]"
      ]
     },
     "execution_count": 5,
     "metadata": {},
     "output_type": "execute_result"
    }
   ],
   "source": [
    "#This generates a list of indices that I have identified as extreme outliers. I identify an extreme outlier as any value that has a z-score more extreme than +/-10.as_integer_ratio\n",
    "\n",
    "index_set=[]\n",
    "threshold = 10\n",
    "for i in range(len(float_columns)):\n",
    "    z=np.abs(stats.zscore(train[[float_columns[i]]],nan_policy='omit'))\n",
    "    #print(z.describe())\n",
    "    indices = np.where(np.all(z > threshold, axis=1))[0].flatten().tolist()\n",
    "    index_set=index_set+indices\n",
    "    i+=1\n",
    "\n",
    "index_set=list(set(index_set))\n",
    "index_set"
   ]
  },
  {
   "cell_type": "code",
   "execution_count": 6,
   "metadata": {},
   "outputs": [
    {
     "data": {
      "text/plain": [
       "3954"
      ]
     },
     "execution_count": 6,
     "metadata": {},
     "output_type": "execute_result"
    }
   ],
   "source": [
    "#This defines a new dataframe with the outliers removed.\n",
    "\n",
    "train_no_outliers=train.drop(index_set)\n",
    "len(train_no_outliers)"
   ]
  },
  {
   "cell_type": "code",
   "execution_count": 8,
   "metadata": {},
   "outputs": [
    {
     "name": "stdout",
     "output_type": "stream",
     "text": [
      "[1280, 1155, 3205, 646, 1031, 2567, 1030, 1287, 3086, 655, 2065, 1170, 3091, 3729, 2710, 1944, 1434, 156, 1700, 1707, 2478, 2299, 3630, 2738, 691, 3767, 55, 3511, 2490, 3771, 1470, 3903, 3774, 3143, 72, 840, 3655, 3147, 3658, 3792, 2770, 3451, 3925, 2009, 3289, 1245, 609, 2146, 2659, 3809, 2021, 2661, 3581, 232, 3051, 238, 113, 498, 3700, 1141, 1526, 2551, 1656, 3958, 1658, 635, 1660, 1917]\n",
      "68\n"
     ]
    }
   ],
   "source": [
    "#This generates a list of indices for extreme outliers or negative values that should not be negative. \n",
    "#In particular, BIA_BIA_Fat, which measures body fat percentage, has a bunch of negative values.\n",
    "index_set=[]\n",
    "for i in range(len(float_columns)):\n",
    "    #print(float_columns[i])\n",
    "    z=np.abs(stats.zscore(train[[float_columns[i]]],nan_policy='omit'))\n",
    "    #print(z.describe())\n",
    "    threshold = 10\n",
    "    indices_large_z = np.where(np.all(z > threshold, axis=1))[0].flatten().tolist()\n",
    "    indices_negative=np.where(np.all(train[[float_columns[i]]]<0, axis=1))[0].flatten().tolist()\n",
    "    index_set=index_set+indices_large_z+indices_negative\n",
    "    #print(indices_large_z)\n",
    "    #print(indices_negative)\n",
    "    i+=1\n",
    "\n",
    "index_set_neg_largez=list(set(index_set))\n",
    "print(index_set_neg_largez)\n",
    "print(len(index_set_neg_largez))"
   ]
  },
  {
   "cell_type": "code",
   "execution_count": 9,
   "metadata": {},
   "outputs": [
    {
     "name": "stdout",
     "output_type": "stream",
     "text": [
      "<class 'pandas.core.frame.DataFrame'>\n",
      "Index: 3892 entries, 0 to 3959\n",
      "Data columns (total 82 columns):\n",
      " #   Column                                  Non-Null Count  Dtype  \n",
      "---  ------                                  --------------  -----  \n",
      " 0   id                                      3892 non-null   object \n",
      " 1   Basic_Demos-Enroll_Season               3892 non-null   object \n",
      " 2   Basic_Demos-Age                         3892 non-null   int64  \n",
      " 3   Basic_Demos-Sex                         3892 non-null   int64  \n",
      " 4   CGAS-Season                             2496 non-null   object \n",
      " 5   CGAS-CGAS_Score                         2362 non-null   float64\n",
      " 6   Physical-Season                         3242 non-null   object \n",
      " 7   Physical-BMI                            2956 non-null   float64\n",
      " 8   Physical-Height                         2961 non-null   float64\n",
      " 9   Physical-Weight                         3010 non-null   float64\n",
      " 10  Physical-Waist_Circumference            892 non-null    float64\n",
      " 11  Physical-Diastolic_BP                   2889 non-null   float64\n",
      " 12  Physical-HeartRate                      2902 non-null   float64\n",
      " 13  Physical-Systolic_BP                    2889 non-null   float64\n",
      " 14  Fitness_Endurance-Season                1288 non-null   object \n",
      " 15  Fitness_Endurance-Max_Stage             731 non-null    float64\n",
      " 16  Fitness_Endurance-Time_Mins             729 non-null    float64\n",
      " 17  Fitness_Endurance-Time_Sec              729 non-null    float64\n",
      " 18  FGC-Season                              3282 non-null   object \n",
      " 19  FGC-FGC_CU                              2269 non-null   float64\n",
      " 20  FGC-FGC_CU_Zone                         2229 non-null   float64\n",
      " 21  FGC-FGC_GSND                            1037 non-null   float64\n",
      " 22  FGC-FGC_GSND_Zone                       1026 non-null   float64\n",
      " 23  FGC-FGC_GSD                             1037 non-null   float64\n",
      " 24  FGC-FGC_GSD_Zone                        1027 non-null   float64\n",
      " 25  FGC-FGC_PU                              2258 non-null   float64\n",
      " 26  FGC-FGC_PU_Zone                         2219 non-null   float64\n",
      " 27  FGC-FGC_SRL                             2252 non-null   float64\n",
      " 28  FGC-FGC_SRL_Zone                        2214 non-null   float64\n",
      " 29  FGC-FGC_SRR                             2254 non-null   float64\n",
      " 30  FGC-FGC_SRR_Zone                        2216 non-null   float64\n",
      " 31  FGC-FGC_TL                              2271 non-null   float64\n",
      " 32  FGC-FGC_TL_Zone                         2232 non-null   float64\n",
      " 33  BIA-Season                              2078 non-null   object \n",
      " 34  BIA-BIA_Activity_Level_num              1924 non-null   float64\n",
      " 35  BIA-BIA_BMC                             1924 non-null   float64\n",
      " 36  BIA-BIA_BMI                             1924 non-null   float64\n",
      " 37  BIA-BIA_BMR                             1924 non-null   float64\n",
      " 38  BIA-BIA_DEE                             1924 non-null   float64\n",
      " 39  BIA-BIA_ECW                             1924 non-null   float64\n",
      " 40  BIA-BIA_FFM                             1924 non-null   float64\n",
      " 41  BIA-BIA_FFMI                            1924 non-null   float64\n",
      " 42  BIA-BIA_FMI                             1924 non-null   float64\n",
      " 43  BIA-BIA_Fat                             1924 non-null   float64\n",
      " 44  BIA-BIA_Frame_num                       1924 non-null   float64\n",
      " 45  BIA-BIA_ICW                             1924 non-null   float64\n",
      " 46  BIA-BIA_LDM                             1924 non-null   float64\n",
      " 47  BIA-BIA_LST                             1924 non-null   float64\n",
      " 48  BIA-BIA_SMM                             1924 non-null   float64\n",
      " 49  BIA-BIA_TBW                             1924 non-null   float64\n",
      " 50  PAQ_A-Season                            454 non-null    object \n",
      " 51  PAQ_A-PAQ_A_Total                       454 non-null    float64\n",
      " 52  PAQ_C-Season                            1694 non-null   object \n",
      " 53  PAQ_C-PAQ_C_Total                       1694 non-null   float64\n",
      " 54  PCIAT-Season                            2673 non-null   object \n",
      " 55  PCIAT-PCIAT_01                          2670 non-null   float64\n",
      " 56  PCIAT-PCIAT_02                          2671 non-null   float64\n",
      " 57  PCIAT-PCIAT_03                          2668 non-null   float64\n",
      " 58  PCIAT-PCIAT_04                          2668 non-null   float64\n",
      " 59  PCIAT-PCIAT_05                          2666 non-null   float64\n",
      " 60  PCIAT-PCIAT_06                          2669 non-null   float64\n",
      " 61  PCIAT-PCIAT_07                          2666 non-null   float64\n",
      " 62  PCIAT-PCIAT_08                          2667 non-null   float64\n",
      " 63  PCIAT-PCIAT_09                          2667 non-null   float64\n",
      " 64  PCIAT-PCIAT_10                          2670 non-null   float64\n",
      " 65  PCIAT-PCIAT_11                          2671 non-null   float64\n",
      " 66  PCIAT-PCIAT_12                          2668 non-null   float64\n",
      " 67  PCIAT-PCIAT_13                          2667 non-null   float64\n",
      " 68  PCIAT-PCIAT_14                          2669 non-null   float64\n",
      " 69  PCIAT-PCIAT_15                          2667 non-null   float64\n",
      " 70  PCIAT-PCIAT_16                          2665 non-null   float64\n",
      " 71  PCIAT-PCIAT_17                          2662 non-null   float64\n",
      " 72  PCIAT-PCIAT_18                          2666 non-null   float64\n",
      " 73  PCIAT-PCIAT_19                          2667 non-null   float64\n",
      " 74  PCIAT-PCIAT_20                          2670 non-null   float64\n",
      " 75  PCIAT-PCIAT_Total                       2673 non-null   float64\n",
      " 76  SDS-Season                              2561 non-null   object \n",
      " 77  SDS-SDS_Total_Raw                       2552 non-null   float64\n",
      " 78  SDS-SDS_Total_T                         2550 non-null   float64\n",
      " 79  PreInt_EduHx-Season                     3472 non-null   object \n",
      " 80  PreInt_EduHx-computerinternet_hoursday  3235 non-null   float64\n",
      " 81  sii                                     2673 non-null   float64\n",
      "dtypes: float64(68), int64(2), object(12)\n",
      "memory usage: 2.5+ MB\n"
     ]
    }
   ],
   "source": [
    "#This defines a new dataframe with the the entire case removed, where there is an extreme outlier or a nonsensical negative value.\n",
    "train_no_outliers_no_negatives=train.drop(index_set_neg_largez)\n",
    "train_no_outliers_no_negatives.info()"
   ]
  },
  {
   "cell_type": "code",
   "execution_count": 10,
   "metadata": {},
   "outputs": [
    {
     "name": "stdout",
     "output_type": "stream",
     "text": [
      "<class 'pandas.core.frame.DataFrame'>\n",
      "RangeIndex: 3960 entries, 0 to 3959\n",
      "Data columns (total 82 columns):\n",
      " #   Column                                  Non-Null Count  Dtype  \n",
      "---  ------                                  --------------  -----  \n",
      " 0   id                                      3960 non-null   object \n",
      " 1   Basic_Demos-Enroll_Season               3960 non-null   object \n",
      " 2   Basic_Demos-Age                         3960 non-null   int64  \n",
      " 3   Basic_Demos-Sex                         3960 non-null   int64  \n",
      " 4   CGAS-Season                             2555 non-null   object \n",
      " 5   CGAS-CGAS_Score                         2420 non-null   float64\n",
      " 6   Physical-Season                         3310 non-null   object \n",
      " 7   Physical-BMI                            3022 non-null   float64\n",
      " 8   Physical-Height                         3027 non-null   float64\n",
      " 9   Physical-Weight                         3076 non-null   float64\n",
      " 10  Physical-Waist_Circumference            898 non-null    float64\n",
      " 11  Physical-Diastolic_BP                   2954 non-null   float64\n",
      " 12  Physical-HeartRate                      2967 non-null   float64\n",
      " 13  Physical-Systolic_BP                    2954 non-null   float64\n",
      " 14  Fitness_Endurance-Season                1308 non-null   object \n",
      " 15  Fitness_Endurance-Max_Stage             743 non-null    float64\n",
      " 16  Fitness_Endurance-Time_Mins             740 non-null    float64\n",
      " 17  Fitness_Endurance-Time_Sec              740 non-null    float64\n",
      " 18  FGC-Season                              3346 non-null   object \n",
      " 19  FGC-FGC_CU                              2322 non-null   float64\n",
      " 20  FGC-FGC_CU_Zone                         2282 non-null   float64\n",
      " 21  FGC-FGC_GSND                            1074 non-null   float64\n",
      " 22  FGC-FGC_GSND_Zone                       1062 non-null   float64\n",
      " 23  FGC-FGC_GSD                             1074 non-null   float64\n",
      " 24  FGC-FGC_GSD_Zone                        1063 non-null   float64\n",
      " 25  FGC-FGC_PU                              2310 non-null   float64\n",
      " 26  FGC-FGC_PU_Zone                         2271 non-null   float64\n",
      " 27  FGC-FGC_SRL                             2305 non-null   float64\n",
      " 28  FGC-FGC_SRL_Zone                        2267 non-null   float64\n",
      " 29  FGC-FGC_SRR                             2307 non-null   float64\n",
      " 30  FGC-FGC_SRR_Zone                        2269 non-null   float64\n",
      " 31  FGC-FGC_TL                              2324 non-null   float64\n",
      " 32  FGC-FGC_TL_Zone                         2285 non-null   float64\n",
      " 33  BIA-Season                              2145 non-null   object \n",
      " 34  BIA-BIA_Activity_Level_num              1991 non-null   float64\n",
      " 35  BIA-BIA_BMC                             1978 non-null   float64\n",
      " 36  BIA-BIA_BMI                             1991 non-null   float64\n",
      " 37  BIA-BIA_BMR                             1990 non-null   float64\n",
      " 38  BIA-BIA_DEE                             1990 non-null   float64\n",
      " 39  BIA-BIA_ECW                             1990 non-null   float64\n",
      " 40  BIA-BIA_FFM                             1990 non-null   float64\n",
      " 41  BIA-BIA_FFMI                            1989 non-null   float64\n",
      " 42  BIA-BIA_FMI                             1975 non-null   float64\n",
      " 43  BIA-BIA_Fat                             1976 non-null   float64\n",
      " 44  BIA-BIA_Frame_num                       1991 non-null   float64\n",
      " 45  BIA-BIA_ICW                             1990 non-null   float64\n",
      " 46  BIA-BIA_LDM                             1990 non-null   float64\n",
      " 47  BIA-BIA_LST                             1990 non-null   float64\n",
      " 48  BIA-BIA_SMM                             1990 non-null   float64\n",
      " 49  BIA-BIA_TBW                             1990 non-null   float64\n",
      " 50  PAQ_A-Season                            475 non-null    object \n",
      " 51  PAQ_A-PAQ_A_Total                       475 non-null    float64\n",
      " 52  PAQ_C-Season                            1721 non-null   object \n",
      " 53  PAQ_C-PAQ_C_Total                       1721 non-null   float64\n",
      " 54  PCIAT-Season                            2736 non-null   object \n",
      " 55  PCIAT-PCIAT_01                          2733 non-null   float64\n",
      " 56  PCIAT-PCIAT_02                          2734 non-null   float64\n",
      " 57  PCIAT-PCIAT_03                          2731 non-null   float64\n",
      " 58  PCIAT-PCIAT_04                          2731 non-null   float64\n",
      " 59  PCIAT-PCIAT_05                          2729 non-null   float64\n",
      " 60  PCIAT-PCIAT_06                          2732 non-null   float64\n",
      " 61  PCIAT-PCIAT_07                          2729 non-null   float64\n",
      " 62  PCIAT-PCIAT_08                          2730 non-null   float64\n",
      " 63  PCIAT-PCIAT_09                          2730 non-null   float64\n",
      " 64  PCIAT-PCIAT_10                          2733 non-null   float64\n",
      " 65  PCIAT-PCIAT_11                          2734 non-null   float64\n",
      " 66  PCIAT-PCIAT_12                          2731 non-null   float64\n",
      " 67  PCIAT-PCIAT_13                          2729 non-null   float64\n",
      " 68  PCIAT-PCIAT_14                          2732 non-null   float64\n",
      " 69  PCIAT-PCIAT_15                          2730 non-null   float64\n",
      " 70  PCIAT-PCIAT_16                          2728 non-null   float64\n",
      " 71  PCIAT-PCIAT_17                          2725 non-null   float64\n",
      " 72  PCIAT-PCIAT_18                          2728 non-null   float64\n",
      " 73  PCIAT-PCIAT_19                          2730 non-null   float64\n",
      " 74  PCIAT-PCIAT_20                          2733 non-null   float64\n",
      " 75  PCIAT-PCIAT_Total                       2736 non-null   float64\n",
      " 76  SDS-Season                              2618 non-null   object \n",
      " 77  SDS-SDS_Total_Raw                       2609 non-null   float64\n",
      " 78  SDS-SDS_Total_T                         2606 non-null   float64\n",
      " 79  PreInt_EduHx-Season                     3540 non-null   object \n",
      " 80  PreInt_EduHx-computerinternet_hoursday  3301 non-null   float64\n",
      " 81  sii                                     2736 non-null   float64\n",
      "dtypes: float64(68), int64(2), object(12)\n",
      "memory usage: 2.5+ MB\n"
     ]
    }
   ],
   "source": [
    "#This takes extreme outliers and nonsensical negative values and replaces them with NaN.\n",
    "\n",
    "train_outliers_neg_to_NaN=train\n",
    "for i in range(len(float_columns)):\n",
    "    index_set=[]\n",
    "    z=np.abs(stats.zscore(train[[float_columns[i]]],nan_policy='omit'))\n",
    "    threshold = 10\n",
    "    indices_large_z = np.where(np.all(z > threshold, axis=1))[0].flatten().tolist()\n",
    "    indices_negative=np.where(np.all(train[[float_columns[i]]]<0, axis=1))[0].flatten().tolist()\n",
    "    index_set=indices_large_z+indices_negative\n",
    "    #print(len(index_set))\n",
    "    for j in range(len(index_set)):\n",
    "        train_outliers_neg_to_NaN.at[j, float_columns[i]] = np.nan\n",
    "        j+=1\n",
    "    i+=1\n",
    "\n",
    "train_outliers_neg_to_NaN.info()"
   ]
  },
  {
   "cell_type": "code",
   "execution_count": null,
   "metadata": {},
   "outputs": [],
   "source": []
  }
 ],
 "metadata": {
  "kernelspec": {
   "display_name": "erdos_fall_2024",
   "language": "python",
   "name": "python3"
  },
  "language_info": {
   "codemirror_mode": {
    "name": "ipython",
    "version": 3
   },
   "file_extension": ".py",
   "mimetype": "text/x-python",
   "name": "python",
   "nbconvert_exporter": "python",
   "pygments_lexer": "ipython3",
   "version": "3.12.6"
  }
 },
 "nbformat": 4,
 "nbformat_minor": 2
}
