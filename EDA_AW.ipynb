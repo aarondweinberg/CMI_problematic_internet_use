{
 "cells": [
  {
   "cell_type": "markdown",
   "metadata": {},
   "source": [
    "This notebook includes Aaron's attempts at EDA, feature selection/reduction, and initial attempts at trying a couple of different predictive regression models (including hyperparameter tuning)\n",
    "\n",
    "The outline:\n",
    "\n",
    "1. Import the data. These include the accelerometer predictors. We should consider doing a separate analysis without these variables, since relatively few participants have these data\n",
    "2. Remove a couple of variables we won't be using, including:\n",
    "    * id\n",
    "    * ID\n",
    "    * BIA-BIA_BMI (since we already have a BMI variable as part of the physical group)\n",
    "    * PCIAT-PCIAT_01 through 20\n",
    "    * FitnessGram Zone variables that were used to compute the Zone Total (i.e., CU, PU, SRL, SRR, TL) *Note - not entirely sure if we should be doing this*\n",
    "3. Examining correlations between each predictor (individually) and \n",
    "    * PCIAT-PCIAT_Total\n",
    "    * log(PCIAT-PCIAT_Total)\n",
    "    * (PCIAT-PCIAT_Total)^2\n",
    "4. Examining NaN counts for all variables and, potentially, removing variables that:\n",
    "    * Have very large NaN counts AND\n",
    "    * Don't have face value as predictors AND\n",
    "    * Have low correlations with the outcome variable\n",
    "5. Examining correlations between all predictors and, potentially, removing variables that have extremely high (>0.9) correlation\n",
    "6. Exploring interactions between Seasons and associated predictors:\n",
    "    1. For each predictor that is associated with a Season variable (e.g., within the Physical variables), make a scatterplot of the predictor vs. outcome and display regression lines by Season\n",
    "    2. If there aren't any clear interactions, removing the Season variable from the list of predictors\n",
    "    3. If there do appear to be interactions, creating dummy variables from the Season variable\n",
    "7. Create a linear regression model using a greedy algorithm from the \"bottom up\"\n",
    "    1. Make a list of all numerical predictors and also a new empty data frame with 100(?) rows and the predictors as variables\n",
    "    2. Randomly select a predictor from the list and create a linear model\n",
    "    3. Randomly select a second predictor from the list and add it to the model\n",
    "    4. Perform an F test to see if the new model is significantly better than the old\n",
    "    5. Repeat until the F test is no longer significant\n",
    "    6. Record the predictors that are in the model in the newly-created data frame\n",
    "    7. Repeat the above steps 100 (??) times\n",
    "    8. Compute the mean for each predictor in the data frame. This should give some sense of the \"importance\" of each predictor\n",
    "8. Repeat the previous method but using a \"top down\" algorithm, starting with a full model and removing predictors one-by-one\n",
    "9. *Maybe* Trying to use PCA and either linear or KNN regression to see if it appears to improve prediction\n",
    "    * PCA on the entire set of predictors\n",
    "    * On each set of grouped predictors\n",
    "10. Using RandomForest Regression on the entire set of predictors and examining the importance matrix to try to find a potential list of predictors\n",
    "11. *Maybe* using XGBoost to do stuff. (Need to learn what this is)\n",
    "12. Removing highly-correlated predictors and using LASSO and using LASSO regression (with hyperparameter tuning) to identify important predictors\n",
    "13. Comparing the apparent predictive power of all the previous methods. If none stand out, then stick with linear regression(?)\n",
    "14. Start to engage more formally with the modeling process, using Kfold splits"
   ]
  },
  {
   "cell_type": "code",
   "execution_count": 19,
   "metadata": {},
   "outputs": [],
   "source": [
    "import pandas as pd\n",
    "import numpy as np\n",
    "import seaborn as sns\n",
    "import matplotlib.pyplot as plt"
   ]
  },
  {
   "cell_type": "code",
   "execution_count": 20,
   "metadata": {},
   "outputs": [],
   "source": [
    "# Load the original data set\n",
    "train_cleaned = pd.read_csv('train_cleaned.csv')"
   ]
  },
  {
   "cell_type": "code",
   "execution_count": 22,
   "metadata": {},
   "outputs": [],
   "source": [
    "# Remove some variables we won't need\n",
    "\n",
    "# Remove the variables 'id', 'BIA-BIA_BMI'\n",
    "train_cleaned = train_cleaned.drop(['id', 'BIA-BIA_BMI'], axis=1)\n",
    "\n",
    "# Remove the PCIAT component variables\n",
    "train_cleaned = train_cleaned.loc[:,~train_cleaned.columns.str.startswith('PCIAT-PCIAT_0')]\n",
    "train_cleaned = train_cleaned.loc[:,~train_cleaned.columns.str.startswith('PCIAT-PCIAT_1')]\n",
    "train_cleaned = train_cleaned.drop(['PCIAT-PCIAT_20'], axis=1)\n",
    "\n",
    "# Remove FGC-FGC_CU_Zone, FGC-FGC_PU_Zone, FGC-FGC_SRR_Zone, and FGC-FGC_TL_Zone\n",
    "train_cleaned = train_cleaned.drop(['FGC-FGC_CU_Zone', 'FGC-FGC_PU_Zone', 'FGC-FGC_SRR_Zone', 'FGC-FGC_TL_Zone'], axis=1)"
   ]
  },
  {
   "cell_type": "code",
   "execution_count": 23,
   "metadata": {},
   "outputs": [],
   "source": [
    "# Make a list of numeric features\n",
    "numeric_features = train_cleaned.select_dtypes(include=[np.number]).columns\n",
    "\n",
    "# Remove sii and PCIAT-PCIAT_Total from numeric_features\n",
    "numeric_features = numeric_features.drop(['sii', 'PCIAT-PCIAT_Total'])"
   ]
  },
  {
   "cell_type": "code",
   "execution_count": 24,
   "metadata": {},
   "outputs": [
    {
     "data": {
      "text/plain": [
       "Physical-Height                           0.418307\n",
       "Basic_Demos-Age                           0.413493\n",
       "PreInt_EduHx-computerinternet_hoursday    0.379375\n",
       "Physical-Weight                           0.350290\n",
       "BIA-BIA_FFM                               0.330358\n",
       "BIA-BIA_BMR                               0.330358\n",
       "BIA-BIA_LDM                               0.328595\n",
       "BIA-BIA_LST                               0.328057\n",
       "BIA-BIA_TBW                               0.324602\n",
       "BIA-BIA_ECW                               0.323074\n",
       "Physical-Waist_Circumference              0.320012\n",
       "BIA-BIA_ICW                               0.313099\n",
       "BIA-BIA_DEE                               0.312847\n",
       "FGC-FGC_CU                                0.308339\n",
       "BIA-BIA_SMM                               0.281563\n",
       "BIA-BIA_Fat                               0.280060\n",
       "ENMO_Avg_Active_Days_MVPA110              0.264020\n",
       "Physical-BMI                              0.248787\n",
       "BIA-BIA_FFMI                              0.247018\n",
       "SDS-SDS_Total_Raw                         0.232272\n",
       "SDS-SDS_Total_T                           0.229256\n",
       "ENMO_Avg_Active_Days_MVPA192              0.209699\n",
       "BIA-BIA_FMI                               0.206707\n",
       "FGC-FGC_PU                                0.204195\n",
       "BIA-BIA_Frame_num                         0.193441\n",
       "FGC-FGC_GSND                              0.157168\n",
       "Physical-Systolic_BP                      0.156920\n",
       "FGC-FGC_TL                                0.154543\n",
       "FGC-FGC_GSD                               0.143145\n",
       "FGC-FGC_SRL_Zone                          0.142532\n",
       "BIA-BIA_BMC                               0.131292\n",
       "BIA-BIA_Activity_Level_num                0.099637\n",
       "Basic_Demos-Sex                           0.088904\n",
       "Physical-Diastolic_BP                     0.085437\n",
       "FGC-FGC_SRL                               0.079838\n",
       "FGC-FGC_SRR                               0.066070\n",
       "Fitness_Endurance-Max_Stage               0.063197\n",
       "CGAS-CGAS_Score                           0.062867\n",
       "Physical-HeartRate                        0.052821\n",
       "Fitness_Endurance-Time_Mins               0.051003\n",
       "FitnessGram_Zone_Total                    0.049984\n",
       "PAQ_Total                                 0.048807\n",
       "PAQ_MVPA                                  0.044139\n",
       "Fitness_Endurance-Time_Sec                0.039771\n",
       "Positive_Anglez_Active_Days               0.012845\n",
       "FGC-FGC_GSD_Zone                          0.006758\n",
       "FGC-FGC_GSND_Zone                         0.002806\n",
       "dtype: float64"
      ]
     },
     "execution_count": 24,
     "metadata": {},
     "output_type": "execute_result"
    }
   ],
   "source": [
    "# Compute absolute values of correlations between each predictor in numeric_features and PCIAT-PCIAT_Total\n",
    "correlations = train_cleaned[numeric_features].apply(lambda x: np.abs(x.corr(train_cleaned['PCIAT-PCIAT_Total'])))\n",
    "\n",
    "# Order correlations from largest to smallest\n",
    "correlations = correlations.sort_values(ascending=False)\n",
    "\n",
    "correlations"
   ]
  },
  {
   "cell_type": "markdown",
   "metadata": {},
   "source": [
    "Height, age, and weight are among the strong(er) predictors of the PCIAT_Total outcome.\n",
    "\n",
    "There appear to be a constellation of BIA variables that are predictors, but prior exploration suggests that these might be strongly correlated with height and weight (and maybe age), so they might be candidates for elimination.\n",
    "\n",
    "It's possible that there are some non-linear associations. So we'll compute log and ^2 of the outcome variable and re-compute correlations"
   ]
  },
  {
   "cell_type": "code",
   "execution_count": 29,
   "metadata": {},
   "outputs": [
    {
     "data": {
      "text/plain": [
       "Physical-Height                           0.371769\n",
       "Basic_Demos-Age                           0.361570\n",
       "PreInt_EduHx-computerinternet_hoursday    0.313368\n",
       "Physical-Weight                           0.290909\n",
       "FGC-FGC_CU                                0.274658\n",
       "BIA-BIA_LDM                               0.269355\n",
       "BIA-BIA_FFM                               0.267440\n",
       "BIA-BIA_BMR                               0.267440\n",
       "Physical-Waist_Circumference              0.266843\n",
       "BIA-BIA_LST                               0.265613\n",
       "dtype: float64"
      ]
     },
     "execution_count": 29,
     "metadata": {},
     "output_type": "execute_result"
    }
   ],
   "source": [
    "# Create a new variable that is log(PCIAT-PCIAT_Total)\n",
    "train_cleaned['log_PCIAT-PCIAT_Total'] = np.log(train_cleaned['PCIAT-PCIAT_Total'])\n",
    "\n",
    "# Replace -inf values in log_PCIAT-PCIAT_Total with -1\n",
    "train_cleaned['log_PCIAT-PCIAT_Total'] = train_cleaned['log_PCIAT-PCIAT_Total'].replace(-np.inf, -1)\n",
    "\n",
    "# Compute absolute values of correlations between each predictor in numeric_features and log_PCIAT-PCIAT_Total\n",
    "correlations_log = train_cleaned[numeric_features].apply(lambda x: np.abs(x.corr(train_cleaned['log_PCIAT-PCIAT_Total'])))\n",
    "correlations_log = correlations_log.sort_values(ascending=False)\n",
    "\n",
    "correlations_log.head(10)"
   ]
  },
  {
   "cell_type": "markdown",
   "metadata": {},
   "source": [
    "The ordering of these variables is roughly unchanged, but the correlation values have decreased. So it doesn't seem to be the case that any of the predictors have a strong(er) correlation with log(PCIAT_Total)"
   ]
  },
  {
   "cell_type": "code",
   "execution_count": 30,
   "metadata": {},
   "outputs": [
    {
     "data": {
      "text/plain": [
       "Basic_Demos-Age                           0.380519\n",
       "Physical-Height                           0.377620\n",
       "PreInt_EduHx-computerinternet_hoursday    0.349693\n",
       "Physical-Weight                           0.336263\n",
       "BIA-BIA_BMR                               0.314501\n",
       "BIA-BIA_FFM                               0.314501\n",
       "BIA-BIA_LDM                               0.312210\n",
       "BIA-BIA_LST                               0.311001\n",
       "BIA-BIA_TBW                               0.309245\n",
       "BIA-BIA_ECW                               0.305664\n",
       "dtype: float64"
      ]
     },
     "execution_count": 30,
     "metadata": {},
     "output_type": "execute_result"
    }
   ],
   "source": [
    "# Create a new variable that is (PCIAT-PCIAT_Total)^2\n",
    "train_cleaned['squared_PCIAT-PCIAT_Total'] = train_cleaned['PCIAT-PCIAT_Total']**2\n",
    "\n",
    "# Compute absolute values of correlations between each predictor in numeric_features and squared_PCIAT-PCIAT_Total\n",
    "correlations_squared = train_cleaned[numeric_features].apply(lambda x: np.abs(x.corr(train_cleaned['squared_PCIAT-PCIAT_Total'])))\n",
    "correlations_squared = correlations_squared.sort_values(ascending=False)\n",
    "correlations_squared.head(10)"
   ]
  },
  {
   "cell_type": "markdown",
   "metadata": {},
   "source": [
    "Same results for the square relationship as with log. So we'll stick with examining linear relationships."
   ]
  },
  {
   "cell_type": "code",
   "execution_count": 32,
   "metadata": {},
   "outputs": [
    {
     "data": {
      "text/plain": [
       "Fitness_Endurance-Time_Sec      2562\n",
       "Fitness_Endurance-Max_Stage     2561\n",
       "Fitness_Endurance-Time_Mins     2561\n",
       "Physical-Waist_Circumference    2473\n",
       "ENMO_Avg_Active_Days_MVPA110    2372\n",
       "                                ... \n",
       "PreInt_EduHx-Season              345\n",
       "Basic_Demos-Enroll_Season          0\n",
       "Basic_Demos-Age                    0\n",
       "Basic_Demos-Sex                    0\n",
       "PAQ_MVPA                           0\n",
       "Length: 61, dtype: int64"
      ]
     },
     "execution_count": 32,
     "metadata": {},
     "output_type": "execute_result"
    }
   ],
   "source": [
    "# List the number of NaN values for each variable\n",
    "train_cleaned.isnull().sum().sort_values(ascending=False)"
   ]
  },
  {
   "cell_type": "code",
   "execution_count": null,
   "metadata": {},
   "outputs": [],
   "source": []
  }
 ],
 "metadata": {
  "kernelspec": {
   "display_name": "erdos_fall_2024",
   "language": "python",
   "name": "python3"
  },
  "language_info": {
   "codemirror_mode": {
    "name": "ipython",
    "version": 3
   },
   "file_extension": ".py",
   "mimetype": "text/x-python",
   "name": "python",
   "nbconvert_exporter": "python",
   "pygments_lexer": "ipython3",
   "version": "3.12.5"
  }
 },
 "nbformat": 4,
 "nbformat_minor": 2
}
