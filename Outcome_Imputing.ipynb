{
 "cells": [
  {
   "cell_type": "markdown",
   "metadata": {},
   "source": [
    "**Purpose**\n",
    "\n",
    "The goal of this code is to impute values for the PCIAT variables and, based on these, compute sii scores.\n",
    "\n",
    "This code would not be part of what we submit to the Kaggle competition, since we wouldn't have access to the outcome variables there"
   ]
  },
  {
   "cell_type": "markdown",
   "metadata": {},
   "source": [
    "**NOTE**\n",
    "\n",
    "After getting the code working, we should simply replace the old PCIAT-PCIAT_Total and sii values with the imputed ones(?)"
   ]
  },
  {
   "cell_type": "code",
   "execution_count": 1,
   "metadata": {},
   "outputs": [],
   "source": [
    "import pandas as pd\n",
    "import numpy as np\n",
    "import matplotlib.pyplot as plt\n",
    "from scipy import stats\n",
    "import seaborn as sns\n",
    "from sklearn.impute import KNNImputer"
   ]
  },
  {
   "cell_type": "code",
   "execution_count": 3,
   "metadata": {},
   "outputs": [],
   "source": [
    "#This is the starting data.\n",
    "train_cleaned=pd.read_csv('train_cleaned.csv')"
   ]
  },
  {
   "cell_type": "markdown",
   "metadata": {},
   "source": [
    "**Removing Participants with No Data**\n",
    "\n",
    "Many participants don't have data for any of the 20 PCIAT variables. We'll remove these from the data file."
   ]
  },
  {
   "cell_type": "code",
   "execution_count": 4,
   "metadata": {},
   "outputs": [],
   "source": [
    "#First we'll create a list of columns that hold the PCIAT values\n",
    "pciats = [col for col in train_cleaned.columns if 'PCIAT' in col]\n",
    "pciats.remove('PCIAT-Season')\n",
    "pciats.remove('PCIAT-PCIAT_Total')\n",
    "\n",
    "#Remove rows where all values in pciats are NaN\n",
    "train_imp_KNN = train_cleaned.copy()\n",
    "train_imp_KNN['pciatsnotna_sum'] = train_imp_KNN[pciats].notna().sum(axis=1)\n",
    "train_imp_KNN = train_imp_KNN[train_imp_KNN['pciatsnotna_sum'] != 0]\n",
    "train_imp_KNN.reset_index(drop=True, inplace=True)\n",
    "\n",
    "#Remove the pciatsnotna_sum variable\n",
    "train_imp_KNN.drop(columns=['pciatsnotna_sum'], inplace=True)"
   ]
  },
  {
   "cell_type": "markdown",
   "metadata": {},
   "source": [
    "**Imputing Missing Values**\n",
    "\n",
    "Next we'll use KNN to impute the missing values."
   ]
  },
  {
   "cell_type": "code",
   "execution_count": null,
   "metadata": {},
   "outputs": [
    {
     "name": "stdout",
     "output_type": "stream",
     "text": [
      "88\n"
     ]
    }
   ],
   "source": [
    "# Count the number of NaN values\n",
    "print(train_imp_KNN[pciats].isnull().sum().sum())\n",
    "\n",
    "#Identify the rows with at least one NaN value\n",
    "train_imp_KNN['nan_rows'] = train_imp_KNN[pciats].isnull().any(axis=1)"
   ]
  },
  {
   "cell_type": "code",
   "execution_count": 8,
   "metadata": {},
   "outputs": [],
   "source": [
    "# Create a copy of train_imp_KNN\n",
    "train_imp_KNN2 = train_imp_KNN.copy()"
   ]
  },
  {
   "cell_type": "code",
   "execution_count": 9,
   "metadata": {},
   "outputs": [],
   "source": [
    "# define imputer\n",
    "Number_Neighbors=5\n",
    "imputer = KNNImputer(n_neighbors=Number_Neighbors, weights='uniform', metric='nan_euclidean')\n",
    "\n",
    "#The imputer.fit_transform function outputs a numpy array. So first I do the fitting, then convert the output back to a pandas dataframe.\n",
    "\n",
    "imputations=imputer.fit_transform(train_imp_KNN[pciats])\n",
    "df2 = pd.DataFrame(imputations, columns=pciats)\n",
    "\n",
    "#Next take the result and insert into the original dataframe. \n",
    "\n",
    "train_imp_KNN[pciats]=train_imp_KNN[pciats].fillna(df2[pciats])"
   ]
  },
  {
   "cell_type": "markdown",
   "metadata": {},
   "source": [
    "**Computing PCIAT_Total**\n",
    "\n",
    "We can now recompute PCIAT_Total based on the imputed values"
   ]
  },
  {
   "cell_type": "code",
   "execution_count": 10,
   "metadata": {},
   "outputs": [],
   "source": [
    "#Recalculate the PCIAT total score.\n",
    "train_imp_KNN['PCIAT_Total_Imputed'] = train_imp_KNN[pciats].sum(axis=1)"
   ]
  },
  {
   "cell_type": "markdown",
   "metadata": {},
   "source": [
    "**Computing sii Values**\n",
    "\n",
    "The sii values are based on cutpoints; we can (re)compute these from the new PCIAT_Total values"
   ]
  },
  {
   "cell_type": "code",
   "execution_count": 11,
   "metadata": {},
   "outputs": [],
   "source": [
    "#Now we can calculate a new sii score with the imputed values. \n",
    "bins = [0, 30, 49,79,100]\n",
    "labels = [0,1,2,3]\n",
    "train_imp_KNN['sii_imputed'] = pd.cut(train_imp_KNN['PCIAT_Total_Imputed'], bins=bins, labels=labels, right=False)"
   ]
  },
  {
   "cell_type": "markdown",
   "metadata": {},
   "source": [
    "**Checking the Results**\n",
    "\n",
    "Doing a quick check. The PCIAT_Total_Imputed values should all be larger than the PCIAT-PCIAT_Total values."
   ]
  },
  {
   "cell_type": "code",
   "execution_count": 12,
   "metadata": {},
   "outputs": [
    {
     "data": {
      "image/png": "[encoded data removed]",
      "text/plain": [
       "<Figure size 640x480 with 1 Axes>"
      ]
     },
     "metadata": {},
     "output_type": "display_data"
    }
   ],
   "source": [
    "#Create a new variable by subtracting PCIAT-PCIAT_Total-PCIAT_Total\n",
    "train_imp_KNN['Old_Total-New_Total'] = train_imp_KNN['PCIAT-PCIAT_Total'] - train_imp_KNN['PCIAT_Total_Imputed']\n",
    "\n",
    "#Replace zeroes of PCIAT-PCIAT_Total-PCIAT_Total with NaN\n",
    "train_imp_KNN['Old_Total-New_Total'] = train_imp_KNN['Old_Total-New_Total'].replace(0, np.nan)\n",
    "\n",
    "#Create a histogram of PCIAT-PCIAT_Total-PCIAT_Total\n",
    "plt.hist(train_imp_KNN['Old_Total-New_Total'], bins=100)\n",
    "plt.title('Histogram of Old_Total-New_Total')\n",
    "plt.xlabel('Old_Total-New_Total')\n",
    "plt.ylabel('Frequency')\n",
    "plt.show()"
   ]
  },
  {
   "cell_type": "code",
   "execution_count": 15,
   "metadata": {},
   "outputs": [],
   "source": [
    "# Identify the rows in train_imp_KNN where Old_Total-New_Total is positive\n",
    "train_imp_KNN['Old_Total-New_Total_Positive'] = train_imp_KNN['Old_Total-New_Total'] > 0"
   ]
  },
  {
   "cell_type": "code",
   "execution_count": 16,
   "metadata": {},
   "outputs": [],
   "source": [
    "# Make a list of rows in train_imp_KNN where Old_Total-New_Total_Positive is true\n",
    "badrows = train_imp_KNN[train_imp_KNN['Old_Total-New_Total_Positive'] == True].index.tolist()"
   ]
  },
  {
   "cell_type": "code",
   "execution_count": 17,
   "metadata": {},
   "outputs": [
    {
     "data": {
      "text/plain": [
       "[213, 338, 355, 715, 721, 918, 971, 1252, 1578, 1682, 2185]"
      ]
     },
     "execution_count": 17,
     "metadata": {},
     "output_type": "execute_result"
    }
   ],
   "source": [
    "badrows"
   ]
  },
  {
   "cell_type": "code",
   "execution_count": null,
   "metadata": {},
   "outputs": [],
   "source": [
    "#Create a new dataframe from train_imp_KNN2 that only includes the rows in badrows\n",
    "train_imp_KNN2_bad = train_imp_KNN2.loc[badrows]\n",
    "train_imp_KNN_bad = train_imp_KNN.loc[badrows]\n",
    "\n",
    "#Export train_imp_KNN2_bad to a csv\n",
    "train_imp_KNN2_bad.to_csv('train_imp_KNN2_bad.csv', index=False)\n",
    "train_imp_KNN_bad.to_csv('train_imp_KNN_bad.csv', index=False)"
   ]
  },
  {
   "cell_type": "markdown",
   "metadata": {},
   "source": [
    "**Output to CSV**\n",
    "\n",
    "Finally, we'll output to a CSV for future experimentation"
   ]
  },
  {
   "cell_type": "code",
   "execution_count": 29,
   "metadata": {},
   "outputs": [],
   "source": [
    "#train_imp_KNN.to_csv('train_imp_KNN.csv', index=False)"
   ]
  }
 ],
 "metadata": {
  "kernelspec": {
   "display_name": "erdos_fall_2024",
   "language": "python",
   "name": "python3"
  },
  "language_info": {
   "codemirror_mode": {
    "name": "ipython",
    "version": 3
   },
   "file_extension": ".py",
   "mimetype": "text/x-python",
   "name": "python",
   "nbconvert_exporter": "python",
   "pygments_lexer": "ipython3",
   "version": "3.12.6"
  }
 },
 "nbformat": 4,
 "nbformat_minor": 2
}
