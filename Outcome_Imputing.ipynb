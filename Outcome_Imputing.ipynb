{
 "cells": [
  {
   "cell_type": "markdown",
   "metadata": {},
   "source": [
    "**Purpose**\n",
    "\n",
    "The goal of this code is to impute values for the PCIAT variables and, based on these, compute sii scores.\n",
    "\n",
    "This code would not be part of what we submit to the Kaggle competition, since we wouldn't have access to the outcome variables there\n",
    "\n",
    "**Note**: It appears that the original PCIAT-PCIAT_Total values were computed by replacing missing values with scores of 5. So the code here might not be needed--or might even be problematic "
   ]
  },
  {
   "cell_type": "code",
   "execution_count": 15,
   "metadata": {},
   "outputs": [],
   "source": [
    "import pandas as pd\n",
    "from sklearn.impute import KNNImputer"
   ]
  },
  {
   "cell_type": "code",
   "execution_count": 16,
   "metadata": {},
   "outputs": [],
   "source": [
    "#This is the starting data.\n",
    "train_cleaned=pd.read_csv('train_cleaned.csv')"
   ]
  },
  {
   "cell_type": "markdown",
   "metadata": {},
   "source": [
    "**Removing Participants with No Data**\n",
    "\n",
    "Many participants don't have data for any of the 20 PCIAT variables. We'll remove these from the data file."
   ]
  },
  {
   "cell_type": "code",
   "execution_count": 17,
   "metadata": {},
   "outputs": [],
   "source": [
    "#First we'll create a list of columns that hold the PCIAT values\n",
    "pciats = [col for col in train_cleaned.columns if 'PCIAT' in col]\n",
    "pciats.remove('PCIAT-Season')\n",
    "pciats.remove('PCIAT-PCIAT_Total')\n",
    "\n",
    "#Remove rows where all values in pciats are NaN\n",
    "train_imp_KNN = train_cleaned.copy()\n",
    "train_imp_KNN['pciatsnotna_sum'] = train_imp_KNN[pciats].notna().sum(axis=1)\n",
    "train_imp_KNN = train_imp_KNN[train_imp_KNN['pciatsnotna_sum'] != 0]\n",
    "train_imp_KNN.reset_index(drop=True, inplace=True)\n",
    "\n",
    "#Remove the pciatsnotna_sum variable\n",
    "train_imp_KNN.drop(columns=['pciatsnotna_sum'], inplace=True)"
   ]
  },
  {
   "cell_type": "markdown",
   "metadata": {},
   "source": [
    "**Imputing Missing Values**\n",
    "\n",
    "Next we'll use KNN to impute the missing values."
   ]
  },
  {
   "cell_type": "code",
   "execution_count": 18,
   "metadata": {},
   "outputs": [],
   "source": [
    "#Identify the rows with at least one NaN value\n",
    "train_imp_KNN['nan_rows'] = train_imp_KNN[pciats].isnull().any(axis=1)\n",
    "\n",
    "# Create a copy of train_imp_KNN\n",
    "train_imp_KNN2 = train_imp_KNN.copy()\n",
    "# define imputer\n",
    "Number_Neighbors=5\n",
    "imputer = KNNImputer(n_neighbors=Number_Neighbors, weights='uniform', metric='nan_euclidean')\n",
    "\n",
    "#The imputer.fit_transform function outputs a numpy array. So first I do the fitting, then convert the output back to a pandas dataframe.\n",
    "\n",
    "imputations=imputer.fit_transform(train_imp_KNN[pciats])\n",
    "df2 = pd.DataFrame(imputations, columns=pciats)\n",
    "\n",
    "#Next take the result and insert into the original dataframe. \n",
    "\n",
    "train_imp_KNN[pciats]=train_imp_KNN[pciats].fillna(df2[pciats])\n",
    "\n",
    "#Remove the nan_rows variable\n",
    "train_imp_KNN.drop(columns=['nan_rows'], inplace=True)"
   ]
  },
  {
   "cell_type": "markdown",
   "metadata": {},
   "source": [
    "**Computing PCIAT_Total**\n",
    "\n",
    "We can now recompute PCIAT_Total based on the imputed values"
   ]
  },
  {
   "cell_type": "code",
   "execution_count": 19,
   "metadata": {},
   "outputs": [],
   "source": [
    "#Recalculate the PCIAT total score.\n",
    "train_imp_KNN['PCIAT-PCIAT_Total'] = train_imp_KNN[pciats].sum(axis=1)"
   ]
  },
  {
   "cell_type": "markdown",
   "metadata": {},
   "source": [
    "**Computing sii Values**\n",
    "\n",
    "The sii values are based on cutpoints; we can (re)compute these from the new PCIAT_Total values"
   ]
  },
  {
   "cell_type": "code",
   "execution_count": 20,
   "metadata": {},
   "outputs": [],
   "source": [
    "#Now we can calculate a new sii score with the imputed values. \n",
    "bins = [0, 30, 49,79,100]\n",
    "labels = [0,1,2,3]\n",
    "train_imp_KNN['sii'] = pd.cut(train_imp_KNN['PCIAT-PCIAT_Total'], bins=bins, labels=labels, right=False)"
   ]
  },
  {
   "cell_type": "markdown",
   "metadata": {},
   "source": [
    "**Output to CSV**\n",
    "\n",
    "Finally, we'll output to a CSV for future experimentation"
   ]
  },
  {
   "cell_type": "code",
   "execution_count": 21,
   "metadata": {},
   "outputs": [],
   "source": [
    "train_imp_KNN.to_csv('train_cleaned_outcome_imputed.csv', index=False)"
   ]
  }
 ],
 "metadata": {
  "kernelspec": {
   "display_name": "erdos_fall_2024",
   "language": "python",
   "name": "python3"
  },
  "language_info": {
   "codemirror_mode": {
    "name": "ipython",
    "version": 3
   },
   "file_extension": ".py",
   "mimetype": "text/x-python",
   "name": "python",
   "nbconvert_exporter": "python",
   "pygments_lexer": "ipython3",
   "version": "3.12.5"
  }
 },
 "nbformat": 4,
 "nbformat_minor": 2
}
