{
 "cells": [
  {
   "cell_type": "markdown",
   "metadata": {},
   "source": [
    "**Testing the Final Model**\n",
    "\n",
    "The purpose of this notebook is to evaluate the performance of our selected model on the test data we set aside at the beginning of this process."
   ]
  },
  {
   "cell_type": "code",
   "execution_count": 6,
   "metadata": {},
   "outputs": [],
   "source": [
    "# Import everything we need\n",
    "import pandas as pd\n",
    "from sklearn.ensemble import GradientBoostingRegressor\n",
    "from imblearn.over_sampling import SMOTE\n",
    "from sklearn.metrics import cohen_kappa_score\n",
    "from CustomImputers import *"
   ]
  },
  {
   "cell_type": "markdown",
   "metadata": {},
   "source": [
    "**Loading the Data and Creating Lists**\n",
    "\n",
    "In this section, we'll load the data (cleaned, with unnecessary features already removed) and create lists of predictors based on previous exploration\n",
    "\n",
    "For the purpose of developing our model(s), we'll work with data that include the imputed outcome (PCIAT_Total and/or sii) scores AND have cleaned predictors.\n",
    "\n",
    "In the final version of our code (which we'll submit to Kaggle), we'll work with data with cleaned predictors but won't have any access to the outcome scores."
   ]
  },
  {
   "cell_type": "code",
   "execution_count": 2,
   "metadata": {},
   "outputs": [],
   "source": [
    "#Load the cleaned & outcome-imputed data\n",
    "train_cleaned=pd.read_csv('train_cleaned_outcome_imputed_feature_selected.csv')"
   ]
  },
  {
   "cell_type": "code",
   "execution_count": 3,
   "metadata": {},
   "outputs": [],
   "source": [
    "#Create an initial list of predictor columns\n",
    "\n",
    "predictors = train_cleaned.columns.tolist()\n",
    "if 'id' in predictors:\n",
    "    predictors.remove('id')\n",
    "if 'sii' in predictors:\n",
    "    predictors.remove('sii')\n",
    "predictors = [x for x in predictors if 'PCIAT' not in x]\n",
    "predictors = [x for x in predictors if 'Season' not in x]\n",
    "\n",
    "# Create an augmented list that will be used for \n",
    "predictors_plus = predictors + ['PCIAT-PCIAT_Total']\n",
    "\n",
    "# The Fitness_Endurance predictor was creating havoc with the MLR models, so we'll omit it from the predictor list for those models\n",
    "predictors_less = [x for x in predictors if 'Fitness_Endurance_Total_Time_Sec' not in x]"
   ]
  },
  {
   "cell_type": "code",
   "execution_count": 4,
   "metadata": {},
   "outputs": [],
   "source": [
    "#Import the full test set (from our original train-test split.)\n",
    "test=pd.read_csv('test_cleaned_feature_selected.csv')\n",
    "\n",
    "#Drop the rows that have no sii value reported.\n",
    "test= test.dropna(subset=['sii'])"
   ]
  },
  {
   "cell_type": "code",
   "execution_count": null,
   "metadata": {},
   "outputs": [
    {
     "name": "stdout",
     "output_type": "stream",
     "text": [
      "Cohens Kappa Score 0.4461275400539233\n"
     ]
    }
   ],
   "source": [
    "# Set up SMOTE to create 128 (rather than 32) instances of sii=3\n",
    "siiratios = {0: 1228, 1: 619, 2:315, 3:128}\n",
    "oversample = SMOTE(sampling_strategy=siiratios)\n",
    "\n",
    "#We now generate a model using the full train set (from our original train-test split.)\n",
    "\n",
    "# Impute missing values\n",
    "mice = Custom_MICE_Imputer()\n",
    "train = mice.fit_transform(train_cleaned)\n",
    "train = zone_encoder(train)\n",
    "test = mice.fit_transform(test)\n",
    "test = zone_encoder(test)\n",
    "\n",
    "# Oversample with SMOTE\n",
    "X, y = oversample.fit_resample(train[predictors_plus], train['sii'])\n",
    "\n",
    "# Create the gradient boost model suggested by the tuning\n",
    "grad_pciat=GradientBoostingRegressor(learning_rate=0.1, max_depth= 3, max_features= 10, min_samples_leaf= 8, min_samples_split= 3, n_estimators= 50)\n",
    "\n",
    "# Fit and make predictions\n",
    "grad_pciat.fit(X[predictors_less], X['PCIAT-PCIAT_Total'])\n",
    "pred = grad_pciat.predict(test[predictors_less])\n",
    "\n",
    "# \"Tuned\" bins.\n",
    "bins_mod = [0, 27, 39, 79, 100]\n",
    "pred_bin_mod = np.digitize(pred, bins_mod)-1\n",
    "\n",
    "final_kappa = cohen_kappa_score(test['sii'], pred_bin_mod, weights='quadratic')\n",
    "\n",
    "print('Cohens Kappa Score:', final_kappa)"
   ]
  },
  {
   "cell_type": "markdown",
   "metadata": {},
   "source": [
    "**Interpretation**\n",
    "\n",
    "The kappa score varies a bit from run to run, but is consistently above 0.44, sometimes above 0.46. This is usually interpreted as \"moderate\" agreement between the predicted and actual scores.\n",
    "\n",
    "We can examine a confusion matrix to better understand how our predictions are falling short"
   ]
  },
  {
   "cell_type": "code",
   "execution_count": 34,
   "metadata": {},
   "outputs": [
    {
     "data": {
      "image/png": "[encoded data removed]",
      "text/plain": [
       "<Figure size 640x480 with 1 Axes>"
      ]
     },
     "metadata": {},
     "output_type": "display_data"
    }
   ],
   "source": [
    "from sklearn.metrics import confusion_matrix\n",
    "import seaborn as sns\n",
    "import matplotlib.pyplot as plt\n",
    "\n",
    "cf_matrix = confusion_matrix(test['sii'], pred_bin_mod)\n",
    "\n",
    "#group_counts = [\"{0:0.0f}\\n\".format(value) for value in cf_matrix.flatten()]\n",
    "#group_percentages = [\"{0:.2%}\".format(value) for value in cf_matrix.flatten()/np.sum(cf_matrix)]\n",
    "#box_labels = [f\"{v1}{v2}\".strip() for v1, v2 in zip(group_counts,group_percentages)]\n",
    "#box_labels = np.asarray(box_labels).reshape(cf_matrix.shape[0],cf_matrix.shape[1])\n",
    "figsize = plt.rcParams.get('figure.figsize')\n",
    "plt.figure(figsize=figsize)\n",
    "#sns.heatmap(cf_matrix,annot=box_labels,fmt=\"\",cmap='Blues',cbar=False,xticklabels=True,yticklabels=True)\n",
    "sns.heatmap(cf_matrix,annot=True,fmt=\"\",cmap='Blues',cbar=False,xticklabels=True,yticklabels=True)\n",
    "plt.ylabel('True SII Value')\n",
    "plt.xlabel('Predicted SII Value')\n",
    "#plt.title(title)\n",
    "plt.show()\n"
   ]
  },
  {
   "cell_type": "markdown",
   "metadata": {},
   "source": [
    "**Discussion**\n",
    "\n",
    "There were only 4 instances of an sii value of 3, and we didn't correctly predict any of these - despite our use of SMOTE to help our model do just this.\n",
    "\n",
    "Our predictions didn't fare particularly well for any of the true SII values: \n",
    "* For sii=2, although 2 was the plurality prediction, we were more likely to predict a 0 or 1 than a 2.\n",
    "* For sii=1, we were roughly equally likely to predict a 0, 1, or 2\n",
    "* For sii=0, we were most likely to predict a 0."
   ]
  },
  {
   "cell_type": "markdown",
   "metadata": {},
   "source": []
  }
 ],
 "metadata": {
  "kernelspec": {
   "display_name": "erdos_fall_2024",
   "language": "python",
   "name": "python3"
  },
  "language_info": {
   "codemirror_mode": {
    "name": "ipython",
    "version": 3
   },
   "file_extension": ".py",
   "mimetype": "text/x-python",
   "name": "python",
   "nbconvert_exporter": "python",
   "pygments_lexer": "ipython3",
   "version": "3.12.6"
  }
 },
 "nbformat": 4,
 "nbformat_minor": 2
}
